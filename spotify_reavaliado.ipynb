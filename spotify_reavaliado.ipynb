{
  "nbformat": 4,
  "nbformat_minor": 0,
  "metadata": {
    "colab": {
      "provenance": [],
      "authorship_tag": "ABX9TyN5XUIcanMseFVLBbbKPmAx"
    },
    "kernelspec": {
      "name": "python3",
      "display_name": "Python 3"
    },
    "language_info": {
      "name": "python"
    }
  },
  "cells": [
    {
      "cell_type": "code",
      "execution_count": 1,
      "metadata": {
        "id": "AsaT8rq8Xje7"
      },
      "outputs": [],
      "source": [
        "import pandas as pd\n",
        "import numpy as np\n",
        "import seaborn as sns\n",
        "import matplotlib.pyplot as plt\n",
        "import plotly.express as px\n",
        "from sklearn.model_selection import train_test_split\n",
        "from sklearn.model_selection import StratifiedKFold"
      ]
    },
    {
      "cell_type": "code",
      "execution_count": 2,
      "metadata": {
        "id": "9TTQPA6M-AYp"
      },
      "outputs": [],
      "source": [
        "base = pd.read_csv('/content/dataset.csv')"
      ]
    },
    {
      "cell_type": "code",
      "source": [
        "base = base.drop_duplicates()\n",
        "base = base.dropna()"
      ],
      "metadata": {
        "id": "hvZm2IbBY-0D"
      },
      "execution_count": 3,
      "outputs": []
    },
    {
      "cell_type": "code",
      "source": [
        "conditionlist = [base['popularity'] >= 80, base['popularity'] < 80]\n",
        "choicelist = [1,0]\n",
        "base['popularity'] = np.select(conditionlist, choicelist, default=0)"
      ],
      "metadata": {
        "id": "mbM-hLYGbclj"
      },
      "execution_count": 4,
      "outputs": []
    },
    {
      "cell_type": "code",
      "source": [
        "from sklearn import preprocessing\n",
        "le = preprocessing.LabelEncoder()\n",
        "le.fit(base['track_genre'])\n",
        "base['track_genre'] = le.transform(base['track_genre'])\n",
        "le.fit(base['explicit'])\n",
        "base['explicit'] = le.transform(base['explicit'])\n",
        "base"
      ],
      "metadata": {
        "colab": {
          "base_uri": "https://localhost:8080/",
          "height": 783
        },
        "id": "Mj_P0DuQyAtx",
        "outputId": "989509a0-529c-4f8e-ff4b-30acf0f8a32f"
      },
      "execution_count": 5,
      "outputs": [
        {
          "output_type": "execute_result",
          "data": {
            "text/plain": [
              "        Unnamed: 0                track_id                 artists  \\\n",
              "0                0  5SuOikwiRyPMVoIQDJUgSV             Gen Hoshino   \n",
              "1                1  4qPNDBW1i3p13qLCt0Ki3A            Ben Woodward   \n",
              "2                2  1iJBSr7s7jYXzM8EGcbK5b  Ingrid Michaelson;ZAYN   \n",
              "3                3  6lfxq3CG4xtTiEg7opyCyx            Kina Grannis   \n",
              "4                4  5vjLSffimiIP26QG5WcN2K        Chord Overstreet   \n",
              "...            ...                     ...                     ...   \n",
              "113995      113995  2C3TZjDRiAzdyViavDJ217           Rainy Lullaby   \n",
              "113996      113996  1hIz5L4IB9hN3WRYPOCGPw           Rainy Lullaby   \n",
              "113997      113997  6x8ZfSoqDjuNa5SVP5QjvX           Cesária Evora   \n",
              "113998      113998  2e6sXL2bYv4bSz6VTdnfLs        Michael W. Smith   \n",
              "113999      113999  2hETkH7cOfqmz3LqZDHZf5           Cesária Evora   \n",
              "\n",
              "                                               album_name  \\\n",
              "0                                                  Comedy   \n",
              "1                                        Ghost (Acoustic)   \n",
              "2                                          To Begin Again   \n",
              "3       Crazy Rich Asians (Original Motion Picture Sou...   \n",
              "4                                                 Hold On   \n",
              "...                                                   ...   \n",
              "113995  #mindfulness - Soft Rain for Mindful Meditatio...   \n",
              "113996  #mindfulness - Soft Rain for Mindful Meditatio...   \n",
              "113997                                            Best Of   \n",
              "113998                                  Change Your World   \n",
              "113999                                     Miss Perfumado   \n",
              "\n",
              "                        track_name  popularity  duration_ms  explicit  \\\n",
              "0                           Comedy           0       230666         0   \n",
              "1                 Ghost - Acoustic           0       149610         0   \n",
              "2                   To Begin Again           0       210826         0   \n",
              "3       Can't Help Falling In Love           0       201933         0   \n",
              "4                          Hold On           1       198853         0   \n",
              "...                            ...         ...          ...       ...   \n",
              "113995         Sleep My Little Boy           0       384999         0   \n",
              "113996            Water Into Light           0       385000         0   \n",
              "113997              Miss Perfumado           0       271466         0   \n",
              "113998                     Friends           0       283893         0   \n",
              "113999                   Barbincor           0       241826         0   \n",
              "\n",
              "        danceability  energy  ...  loudness  mode  speechiness  acousticness  \\\n",
              "0              0.676  0.4610  ...    -6.746     0       0.1430        0.0322   \n",
              "1              0.420  0.1660  ...   -17.235     1       0.0763        0.9240   \n",
              "2              0.438  0.3590  ...    -9.734     1       0.0557        0.2100   \n",
              "3              0.266  0.0596  ...   -18.515     1       0.0363        0.9050   \n",
              "4              0.618  0.4430  ...    -9.681     1       0.0526        0.4690   \n",
              "...              ...     ...  ...       ...   ...          ...           ...   \n",
              "113995         0.172  0.2350  ...   -16.393     1       0.0422        0.6400   \n",
              "113996         0.174  0.1170  ...   -18.318     0       0.0401        0.9940   \n",
              "113997         0.629  0.3290  ...   -10.895     0       0.0420        0.8670   \n",
              "113998         0.587  0.5060  ...   -10.889     1       0.0297        0.3810   \n",
              "113999         0.526  0.4870  ...   -10.204     0       0.0725        0.6810   \n",
              "\n",
              "        instrumentalness  liveness  valence    tempo  time_signature  \\\n",
              "0               0.000001    0.3580   0.7150   87.917               4   \n",
              "1               0.000006    0.1010   0.2670   77.489               4   \n",
              "2               0.000000    0.1170   0.1200   76.332               4   \n",
              "3               0.000071    0.1320   0.1430  181.740               3   \n",
              "4               0.000000    0.0829   0.1670  119.949               4   \n",
              "...                  ...       ...      ...      ...             ...   \n",
              "113995          0.928000    0.0863   0.0339  125.995               5   \n",
              "113996          0.976000    0.1050   0.0350   85.239               4   \n",
              "113997          0.000000    0.0839   0.7430  132.378               4   \n",
              "113998          0.000000    0.2700   0.4130  135.960               4   \n",
              "113999          0.000000    0.0893   0.7080   79.198               4   \n",
              "\n",
              "        track_genre  \n",
              "0                 0  \n",
              "1                 0  \n",
              "2                 0  \n",
              "3                 0  \n",
              "4                 0  \n",
              "...             ...  \n",
              "113995          113  \n",
              "113996          113  \n",
              "113997          113  \n",
              "113998          113  \n",
              "113999          113  \n",
              "\n",
              "[113999 rows x 21 columns]"
            ],
            "text/html": [
              "\n",
              "  <div id=\"df-8fff2502-a26c-4957-9118-614276e3b61c\">\n",
              "    <div class=\"colab-df-container\">\n",
              "      <div>\n",
              "<style scoped>\n",
              "    .dataframe tbody tr th:only-of-type {\n",
              "        vertical-align: middle;\n",
              "    }\n",
              "\n",
              "    .dataframe tbody tr th {\n",
              "        vertical-align: top;\n",
              "    }\n",
              "\n",
              "    .dataframe thead th {\n",
              "        text-align: right;\n",
              "    }\n",
              "</style>\n",
              "<table border=\"1\" class=\"dataframe\">\n",
              "  <thead>\n",
              "    <tr style=\"text-align: right;\">\n",
              "      <th></th>\n",
              "      <th>Unnamed: 0</th>\n",
              "      <th>track_id</th>\n",
              "      <th>artists</th>\n",
              "      <th>album_name</th>\n",
              "      <th>track_name</th>\n",
              "      <th>popularity</th>\n",
              "      <th>duration_ms</th>\n",
              "      <th>explicit</th>\n",
              "      <th>danceability</th>\n",
              "      <th>energy</th>\n",
              "      <th>...</th>\n",
              "      <th>loudness</th>\n",
              "      <th>mode</th>\n",
              "      <th>speechiness</th>\n",
              "      <th>acousticness</th>\n",
              "      <th>instrumentalness</th>\n",
              "      <th>liveness</th>\n",
              "      <th>valence</th>\n",
              "      <th>tempo</th>\n",
              "      <th>time_signature</th>\n",
              "      <th>track_genre</th>\n",
              "    </tr>\n",
              "  </thead>\n",
              "  <tbody>\n",
              "    <tr>\n",
              "      <th>0</th>\n",
              "      <td>0</td>\n",
              "      <td>5SuOikwiRyPMVoIQDJUgSV</td>\n",
              "      <td>Gen Hoshino</td>\n",
              "      <td>Comedy</td>\n",
              "      <td>Comedy</td>\n",
              "      <td>0</td>\n",
              "      <td>230666</td>\n",
              "      <td>0</td>\n",
              "      <td>0.676</td>\n",
              "      <td>0.4610</td>\n",
              "      <td>...</td>\n",
              "      <td>-6.746</td>\n",
              "      <td>0</td>\n",
              "      <td>0.1430</td>\n",
              "      <td>0.0322</td>\n",
              "      <td>0.000001</td>\n",
              "      <td>0.3580</td>\n",
              "      <td>0.7150</td>\n",
              "      <td>87.917</td>\n",
              "      <td>4</td>\n",
              "      <td>0</td>\n",
              "    </tr>\n",
              "    <tr>\n",
              "      <th>1</th>\n",
              "      <td>1</td>\n",
              "      <td>4qPNDBW1i3p13qLCt0Ki3A</td>\n",
              "      <td>Ben Woodward</td>\n",
              "      <td>Ghost (Acoustic)</td>\n",
              "      <td>Ghost - Acoustic</td>\n",
              "      <td>0</td>\n",
              "      <td>149610</td>\n",
              "      <td>0</td>\n",
              "      <td>0.420</td>\n",
              "      <td>0.1660</td>\n",
              "      <td>...</td>\n",
              "      <td>-17.235</td>\n",
              "      <td>1</td>\n",
              "      <td>0.0763</td>\n",
              "      <td>0.9240</td>\n",
              "      <td>0.000006</td>\n",
              "      <td>0.1010</td>\n",
              "      <td>0.2670</td>\n",
              "      <td>77.489</td>\n",
              "      <td>4</td>\n",
              "      <td>0</td>\n",
              "    </tr>\n",
              "    <tr>\n",
              "      <th>2</th>\n",
              "      <td>2</td>\n",
              "      <td>1iJBSr7s7jYXzM8EGcbK5b</td>\n",
              "      <td>Ingrid Michaelson;ZAYN</td>\n",
              "      <td>To Begin Again</td>\n",
              "      <td>To Begin Again</td>\n",
              "      <td>0</td>\n",
              "      <td>210826</td>\n",
              "      <td>0</td>\n",
              "      <td>0.438</td>\n",
              "      <td>0.3590</td>\n",
              "      <td>...</td>\n",
              "      <td>-9.734</td>\n",
              "      <td>1</td>\n",
              "      <td>0.0557</td>\n",
              "      <td>0.2100</td>\n",
              "      <td>0.000000</td>\n",
              "      <td>0.1170</td>\n",
              "      <td>0.1200</td>\n",
              "      <td>76.332</td>\n",
              "      <td>4</td>\n",
              "      <td>0</td>\n",
              "    </tr>\n",
              "    <tr>\n",
              "      <th>3</th>\n",
              "      <td>3</td>\n",
              "      <td>6lfxq3CG4xtTiEg7opyCyx</td>\n",
              "      <td>Kina Grannis</td>\n",
              "      <td>Crazy Rich Asians (Original Motion Picture Sou...</td>\n",
              "      <td>Can't Help Falling In Love</td>\n",
              "      <td>0</td>\n",
              "      <td>201933</td>\n",
              "      <td>0</td>\n",
              "      <td>0.266</td>\n",
              "      <td>0.0596</td>\n",
              "      <td>...</td>\n",
              "      <td>-18.515</td>\n",
              "      <td>1</td>\n",
              "      <td>0.0363</td>\n",
              "      <td>0.9050</td>\n",
              "      <td>0.000071</td>\n",
              "      <td>0.1320</td>\n",
              "      <td>0.1430</td>\n",
              "      <td>181.740</td>\n",
              "      <td>3</td>\n",
              "      <td>0</td>\n",
              "    </tr>\n",
              "    <tr>\n",
              "      <th>4</th>\n",
              "      <td>4</td>\n",
              "      <td>5vjLSffimiIP26QG5WcN2K</td>\n",
              "      <td>Chord Overstreet</td>\n",
              "      <td>Hold On</td>\n",
              "      <td>Hold On</td>\n",
              "      <td>1</td>\n",
              "      <td>198853</td>\n",
              "      <td>0</td>\n",
              "      <td>0.618</td>\n",
              "      <td>0.4430</td>\n",
              "      <td>...</td>\n",
              "      <td>-9.681</td>\n",
              "      <td>1</td>\n",
              "      <td>0.0526</td>\n",
              "      <td>0.4690</td>\n",
              "      <td>0.000000</td>\n",
              "      <td>0.0829</td>\n",
              "      <td>0.1670</td>\n",
              "      <td>119.949</td>\n",
              "      <td>4</td>\n",
              "      <td>0</td>\n",
              "    </tr>\n",
              "    <tr>\n",
              "      <th>...</th>\n",
              "      <td>...</td>\n",
              "      <td>...</td>\n",
              "      <td>...</td>\n",
              "      <td>...</td>\n",
              "      <td>...</td>\n",
              "      <td>...</td>\n",
              "      <td>...</td>\n",
              "      <td>...</td>\n",
              "      <td>...</td>\n",
              "      <td>...</td>\n",
              "      <td>...</td>\n",
              "      <td>...</td>\n",
              "      <td>...</td>\n",
              "      <td>...</td>\n",
              "      <td>...</td>\n",
              "      <td>...</td>\n",
              "      <td>...</td>\n",
              "      <td>...</td>\n",
              "      <td>...</td>\n",
              "      <td>...</td>\n",
              "      <td>...</td>\n",
              "    </tr>\n",
              "    <tr>\n",
              "      <th>113995</th>\n",
              "      <td>113995</td>\n",
              "      <td>2C3TZjDRiAzdyViavDJ217</td>\n",
              "      <td>Rainy Lullaby</td>\n",
              "      <td>#mindfulness - Soft Rain for Mindful Meditatio...</td>\n",
              "      <td>Sleep My Little Boy</td>\n",
              "      <td>0</td>\n",
              "      <td>384999</td>\n",
              "      <td>0</td>\n",
              "      <td>0.172</td>\n",
              "      <td>0.2350</td>\n",
              "      <td>...</td>\n",
              "      <td>-16.393</td>\n",
              "      <td>1</td>\n",
              "      <td>0.0422</td>\n",
              "      <td>0.6400</td>\n",
              "      <td>0.928000</td>\n",
              "      <td>0.0863</td>\n",
              "      <td>0.0339</td>\n",
              "      <td>125.995</td>\n",
              "      <td>5</td>\n",
              "      <td>113</td>\n",
              "    </tr>\n",
              "    <tr>\n",
              "      <th>113996</th>\n",
              "      <td>113996</td>\n",
              "      <td>1hIz5L4IB9hN3WRYPOCGPw</td>\n",
              "      <td>Rainy Lullaby</td>\n",
              "      <td>#mindfulness - Soft Rain for Mindful Meditatio...</td>\n",
              "      <td>Water Into Light</td>\n",
              "      <td>0</td>\n",
              "      <td>385000</td>\n",
              "      <td>0</td>\n",
              "      <td>0.174</td>\n",
              "      <td>0.1170</td>\n",
              "      <td>...</td>\n",
              "      <td>-18.318</td>\n",
              "      <td>0</td>\n",
              "      <td>0.0401</td>\n",
              "      <td>0.9940</td>\n",
              "      <td>0.976000</td>\n",
              "      <td>0.1050</td>\n",
              "      <td>0.0350</td>\n",
              "      <td>85.239</td>\n",
              "      <td>4</td>\n",
              "      <td>113</td>\n",
              "    </tr>\n",
              "    <tr>\n",
              "      <th>113997</th>\n",
              "      <td>113997</td>\n",
              "      <td>6x8ZfSoqDjuNa5SVP5QjvX</td>\n",
              "      <td>Cesária Evora</td>\n",
              "      <td>Best Of</td>\n",
              "      <td>Miss Perfumado</td>\n",
              "      <td>0</td>\n",
              "      <td>271466</td>\n",
              "      <td>0</td>\n",
              "      <td>0.629</td>\n",
              "      <td>0.3290</td>\n",
              "      <td>...</td>\n",
              "      <td>-10.895</td>\n",
              "      <td>0</td>\n",
              "      <td>0.0420</td>\n",
              "      <td>0.8670</td>\n",
              "      <td>0.000000</td>\n",
              "      <td>0.0839</td>\n",
              "      <td>0.7430</td>\n",
              "      <td>132.378</td>\n",
              "      <td>4</td>\n",
              "      <td>113</td>\n",
              "    </tr>\n",
              "    <tr>\n",
              "      <th>113998</th>\n",
              "      <td>113998</td>\n",
              "      <td>2e6sXL2bYv4bSz6VTdnfLs</td>\n",
              "      <td>Michael W. Smith</td>\n",
              "      <td>Change Your World</td>\n",
              "      <td>Friends</td>\n",
              "      <td>0</td>\n",
              "      <td>283893</td>\n",
              "      <td>0</td>\n",
              "      <td>0.587</td>\n",
              "      <td>0.5060</td>\n",
              "      <td>...</td>\n",
              "      <td>-10.889</td>\n",
              "      <td>1</td>\n",
              "      <td>0.0297</td>\n",
              "      <td>0.3810</td>\n",
              "      <td>0.000000</td>\n",
              "      <td>0.2700</td>\n",
              "      <td>0.4130</td>\n",
              "      <td>135.960</td>\n",
              "      <td>4</td>\n",
              "      <td>113</td>\n",
              "    </tr>\n",
              "    <tr>\n",
              "      <th>113999</th>\n",
              "      <td>113999</td>\n",
              "      <td>2hETkH7cOfqmz3LqZDHZf5</td>\n",
              "      <td>Cesária Evora</td>\n",
              "      <td>Miss Perfumado</td>\n",
              "      <td>Barbincor</td>\n",
              "      <td>0</td>\n",
              "      <td>241826</td>\n",
              "      <td>0</td>\n",
              "      <td>0.526</td>\n",
              "      <td>0.4870</td>\n",
              "      <td>...</td>\n",
              "      <td>-10.204</td>\n",
              "      <td>0</td>\n",
              "      <td>0.0725</td>\n",
              "      <td>0.6810</td>\n",
              "      <td>0.000000</td>\n",
              "      <td>0.0893</td>\n",
              "      <td>0.7080</td>\n",
              "      <td>79.198</td>\n",
              "      <td>4</td>\n",
              "      <td>113</td>\n",
              "    </tr>\n",
              "  </tbody>\n",
              "</table>\n",
              "<p>113999 rows × 21 columns</p>\n",
              "</div>\n",
              "      <button class=\"colab-df-convert\" onclick=\"convertToInteractive('df-8fff2502-a26c-4957-9118-614276e3b61c')\"\n",
              "              title=\"Convert this dataframe to an interactive table.\"\n",
              "              style=\"display:none;\">\n",
              "        \n",
              "  <svg xmlns=\"http://www.w3.org/2000/svg\" height=\"24px\"viewBox=\"0 0 24 24\"\n",
              "       width=\"24px\">\n",
              "    <path d=\"M0 0h24v24H0V0z\" fill=\"none\"/>\n",
              "    <path d=\"M18.56 5.44l.94 2.06.94-2.06 2.06-.94-2.06-.94-.94-2.06-.94 2.06-2.06.94zm-11 1L8.5 8.5l.94-2.06 2.06-.94-2.06-.94L8.5 2.5l-.94 2.06-2.06.94zm10 10l.94 2.06.94-2.06 2.06-.94-2.06-.94-.94-2.06-.94 2.06-2.06.94z\"/><path d=\"M17.41 7.96l-1.37-1.37c-.4-.4-.92-.59-1.43-.59-.52 0-1.04.2-1.43.59L10.3 9.45l-7.72 7.72c-.78.78-.78 2.05 0 2.83L4 21.41c.39.39.9.59 1.41.59.51 0 1.02-.2 1.41-.59l7.78-7.78 2.81-2.81c.8-.78.8-2.07 0-2.86zM5.41 20L4 18.59l7.72-7.72 1.47 1.35L5.41 20z\"/>\n",
              "  </svg>\n",
              "      </button>\n",
              "      \n",
              "  <style>\n",
              "    .colab-df-container {\n",
              "      display:flex;\n",
              "      flex-wrap:wrap;\n",
              "      gap: 12px;\n",
              "    }\n",
              "\n",
              "    .colab-df-convert {\n",
              "      background-color: #E8F0FE;\n",
              "      border: none;\n",
              "      border-radius: 50%;\n",
              "      cursor: pointer;\n",
              "      display: none;\n",
              "      fill: #1967D2;\n",
              "      height: 32px;\n",
              "      padding: 0 0 0 0;\n",
              "      width: 32px;\n",
              "    }\n",
              "\n",
              "    .colab-df-convert:hover {\n",
              "      background-color: #E2EBFA;\n",
              "      box-shadow: 0px 1px 2px rgba(60, 64, 67, 0.3), 0px 1px 3px 1px rgba(60, 64, 67, 0.15);\n",
              "      fill: #174EA6;\n",
              "    }\n",
              "\n",
              "    [theme=dark] .colab-df-convert {\n",
              "      background-color: #3B4455;\n",
              "      fill: #D2E3FC;\n",
              "    }\n",
              "\n",
              "    [theme=dark] .colab-df-convert:hover {\n",
              "      background-color: #434B5C;\n",
              "      box-shadow: 0px 1px 3px 1px rgba(0, 0, 0, 0.15);\n",
              "      filter: drop-shadow(0px 1px 2px rgba(0, 0, 0, 0.3));\n",
              "      fill: #FFFFFF;\n",
              "    }\n",
              "  </style>\n",
              "\n",
              "      <script>\n",
              "        const buttonEl =\n",
              "          document.querySelector('#df-8fff2502-a26c-4957-9118-614276e3b61c button.colab-df-convert');\n",
              "        buttonEl.style.display =\n",
              "          google.colab.kernel.accessAllowed ? 'block' : 'none';\n",
              "\n",
              "        async function convertToInteractive(key) {\n",
              "          const element = document.querySelector('#df-8fff2502-a26c-4957-9118-614276e3b61c');\n",
              "          const dataTable =\n",
              "            await google.colab.kernel.invokeFunction('convertToInteractive',\n",
              "                                                     [key], {});\n",
              "          if (!dataTable) return;\n",
              "\n",
              "          const docLinkHtml = 'Like what you see? Visit the ' +\n",
              "            '<a target=\"_blank\" href=https://colab.research.google.com/notebooks/data_table.ipynb>data table notebook</a>'\n",
              "            + ' to learn more about interactive tables.';\n",
              "          element.innerHTML = '';\n",
              "          dataTable['output_type'] = 'display_data';\n",
              "          await google.colab.output.renderOutput(dataTable, element);\n",
              "          const docLink = document.createElement('div');\n",
              "          docLink.innerHTML = docLinkHtml;\n",
              "          element.appendChild(docLink);\n",
              "        }\n",
              "      </script>\n",
              "    </div>\n",
              "  </div>\n",
              "  "
            ]
          },
          "metadata": {},
          "execution_count": 5
        }
      ]
    },
    {
      "cell_type": "code",
      "source": [
        "x = base[['track_genre', 'popularity', 'duration_ms', 'danceability', 'key', 'loudness', 'mode',\n",
        "       'speechiness', 'acousticness', 'instrumentalness', 'liveness', 'explicit']]\n",
        "x = (x - x.min())/(x.max() - x.min())\n",
        "xTrain, xTeste = train_test_split(x, test_size=0.25, random_state=42)"
      ],
      "metadata": {
        "id": "Dn0E8Mf7sRy8"
      },
      "execution_count": 6,
      "outputs": []
    },
    {
      "cell_type": "code",
      "source": [
        "xTrain.popularity.value_counts(normalize=True)"
      ],
      "metadata": {
        "colab": {
          "base_uri": "https://localhost:8080/"
        },
        "id": "oV_A_xbx8p8a",
        "outputId": "b44fe522-e59b-42b6-80ed-447185e9e533"
      },
      "execution_count": 7,
      "outputs": [
        {
          "output_type": "execute_result",
          "data": {
            "text/plain": [
              "0.0    0.98924\n",
              "1.0    0.01076\n",
              "Name: popularity, dtype: float64"
            ]
          },
          "metadata": {},
          "execution_count": 7
        }
      ]
    },
    {
      "cell_type": "code",
      "source": [
        "xTeste.popularity.value_counts(normalize=True)"
      ],
      "metadata": {
        "colab": {
          "base_uri": "https://localhost:8080/"
        },
        "id": "t44rWjki-YIO",
        "outputId": "1cbab481-634c-4735-8ceb-d3a9869a0083"
      },
      "execution_count": 8,
      "outputs": [
        {
          "output_type": "execute_result",
          "data": {
            "text/plain": [
              "0.0    0.99014\n",
              "1.0    0.00986\n",
              "Name: popularity, dtype: float64"
            ]
          },
          "metadata": {},
          "execution_count": 8
        }
      ]
    },
    {
      "cell_type": "code",
      "source": [
        "a = xTrain.drop('popularity', axis=1)\n",
        "b = xTrain.popularity"
      ],
      "metadata": {
        "id": "9fOkiZnx-kRx"
      },
      "execution_count": 9,
      "outputs": []
    },
    {
      "cell_type": "code",
      "source": [
        "StratifKfold = StratifiedKFold(n_splits=5, shuffle=True, random_state=42)"
      ],
      "metadata": {
        "id": "962P0pGc-2A3"
      },
      "execution_count": 10,
      "outputs": []
    },
    {
      "cell_type": "code",
      "source": [
        "for trainIndex, testeIndex in StratifKfold.split(a, b):\n",
        "    xTrain, xTeste = a.iloc[trainIndex], a.iloc[testeIndex]\n",
        "    yTrain, yTeste = b.iloc[trainIndex], b.iloc[testeIndex]\n"
      ],
      "metadata": {
        "id": "g4mJbsfV-353"
      },
      "execution_count": 11,
      "outputs": []
    },
    {
      "cell_type": "code",
      "source": [
        "from sklearn.linear_model import LogisticRegression\n",
        "treino = LogisticRegression().fit(xTrain, yTrain)"
      ],
      "metadata": {
        "id": "_OrekSwcmAHE"
      },
      "execution_count": 12,
      "outputs": []
    },
    {
      "cell_type": "code",
      "source": [
        "prevTreino = treino.predict(xTrain)\n",
        "prevTeste = treino.predict(xTeste)"
      ],
      "metadata": {
        "id": "uanFFBq1tyEi"
      },
      "execution_count": 13,
      "outputs": []
    },
    {
      "cell_type": "code",
      "source": [
        "aux = x.drop(columns='popularity')"
      ],
      "metadata": {
        "id": "MJe0LYtb3Uz8"
      },
      "execution_count": 14,
      "outputs": []
    },
    {
      "cell_type": "code",
      "source": [
        "data = {\n",
        "    \"Features\": aux.columns,\n",
        "    \"Coef\": treino.coef_.tolist()[0]\n",
        "}\n",
        "\n",
        "df = pd.DataFrame(data)\n",
        "df"
      ],
      "metadata": {
        "colab": {
          "base_uri": "https://localhost:8080/",
          "height": 394
        },
        "id": "Kv76TjtR2vek",
        "outputId": "32b228f7-bcb1-42fe-8bd2-e6ed52ab93f8"
      },
      "execution_count": 15,
      "outputs": [
        {
          "output_type": "execute_result",
          "data": {
            "text/plain": [
              "            Features      Coef\n",
              "0        track_genre  0.305532\n",
              "1        duration_ms -0.728036\n",
              "2       danceability  2.208421\n",
              "3                key  0.125112\n",
              "4           loudness  2.804284\n",
              "5               mode -0.168849\n",
              "6        speechiness -2.142953\n",
              "7       acousticness -0.862254\n",
              "8   instrumentalness -2.547052\n",
              "9           liveness -1.691089\n",
              "10          explicit  1.044027"
            ],
            "text/html": [
              "\n",
              "  <div id=\"df-87557d1b-571f-4fe9-8127-1fe38db9737b\">\n",
              "    <div class=\"colab-df-container\">\n",
              "      <div>\n",
              "<style scoped>\n",
              "    .dataframe tbody tr th:only-of-type {\n",
              "        vertical-align: middle;\n",
              "    }\n",
              "\n",
              "    .dataframe tbody tr th {\n",
              "        vertical-align: top;\n",
              "    }\n",
              "\n",
              "    .dataframe thead th {\n",
              "        text-align: right;\n",
              "    }\n",
              "</style>\n",
              "<table border=\"1\" class=\"dataframe\">\n",
              "  <thead>\n",
              "    <tr style=\"text-align: right;\">\n",
              "      <th></th>\n",
              "      <th>Features</th>\n",
              "      <th>Coef</th>\n",
              "    </tr>\n",
              "  </thead>\n",
              "  <tbody>\n",
              "    <tr>\n",
              "      <th>0</th>\n",
              "      <td>track_genre</td>\n",
              "      <td>0.305532</td>\n",
              "    </tr>\n",
              "    <tr>\n",
              "      <th>1</th>\n",
              "      <td>duration_ms</td>\n",
              "      <td>-0.728036</td>\n",
              "    </tr>\n",
              "    <tr>\n",
              "      <th>2</th>\n",
              "      <td>danceability</td>\n",
              "      <td>2.208421</td>\n",
              "    </tr>\n",
              "    <tr>\n",
              "      <th>3</th>\n",
              "      <td>key</td>\n",
              "      <td>0.125112</td>\n",
              "    </tr>\n",
              "    <tr>\n",
              "      <th>4</th>\n",
              "      <td>loudness</td>\n",
              "      <td>2.804284</td>\n",
              "    </tr>\n",
              "    <tr>\n",
              "      <th>5</th>\n",
              "      <td>mode</td>\n",
              "      <td>-0.168849</td>\n",
              "    </tr>\n",
              "    <tr>\n",
              "      <th>6</th>\n",
              "      <td>speechiness</td>\n",
              "      <td>-2.142953</td>\n",
              "    </tr>\n",
              "    <tr>\n",
              "      <th>7</th>\n",
              "      <td>acousticness</td>\n",
              "      <td>-0.862254</td>\n",
              "    </tr>\n",
              "    <tr>\n",
              "      <th>8</th>\n",
              "      <td>instrumentalness</td>\n",
              "      <td>-2.547052</td>\n",
              "    </tr>\n",
              "    <tr>\n",
              "      <th>9</th>\n",
              "      <td>liveness</td>\n",
              "      <td>-1.691089</td>\n",
              "    </tr>\n",
              "    <tr>\n",
              "      <th>10</th>\n",
              "      <td>explicit</td>\n",
              "      <td>1.044027</td>\n",
              "    </tr>\n",
              "  </tbody>\n",
              "</table>\n",
              "</div>\n",
              "      <button class=\"colab-df-convert\" onclick=\"convertToInteractive('df-87557d1b-571f-4fe9-8127-1fe38db9737b')\"\n",
              "              title=\"Convert this dataframe to an interactive table.\"\n",
              "              style=\"display:none;\">\n",
              "        \n",
              "  <svg xmlns=\"http://www.w3.org/2000/svg\" height=\"24px\"viewBox=\"0 0 24 24\"\n",
              "       width=\"24px\">\n",
              "    <path d=\"M0 0h24v24H0V0z\" fill=\"none\"/>\n",
              "    <path d=\"M18.56 5.44l.94 2.06.94-2.06 2.06-.94-2.06-.94-.94-2.06-.94 2.06-2.06.94zm-11 1L8.5 8.5l.94-2.06 2.06-.94-2.06-.94L8.5 2.5l-.94 2.06-2.06.94zm10 10l.94 2.06.94-2.06 2.06-.94-2.06-.94-.94-2.06-.94 2.06-2.06.94z\"/><path d=\"M17.41 7.96l-1.37-1.37c-.4-.4-.92-.59-1.43-.59-.52 0-1.04.2-1.43.59L10.3 9.45l-7.72 7.72c-.78.78-.78 2.05 0 2.83L4 21.41c.39.39.9.59 1.41.59.51 0 1.02-.2 1.41-.59l7.78-7.78 2.81-2.81c.8-.78.8-2.07 0-2.86zM5.41 20L4 18.59l7.72-7.72 1.47 1.35L5.41 20z\"/>\n",
              "  </svg>\n",
              "      </button>\n",
              "      \n",
              "  <style>\n",
              "    .colab-df-container {\n",
              "      display:flex;\n",
              "      flex-wrap:wrap;\n",
              "      gap: 12px;\n",
              "    }\n",
              "\n",
              "    .colab-df-convert {\n",
              "      background-color: #E8F0FE;\n",
              "      border: none;\n",
              "      border-radius: 50%;\n",
              "      cursor: pointer;\n",
              "      display: none;\n",
              "      fill: #1967D2;\n",
              "      height: 32px;\n",
              "      padding: 0 0 0 0;\n",
              "      width: 32px;\n",
              "    }\n",
              "\n",
              "    .colab-df-convert:hover {\n",
              "      background-color: #E2EBFA;\n",
              "      box-shadow: 0px 1px 2px rgba(60, 64, 67, 0.3), 0px 1px 3px 1px rgba(60, 64, 67, 0.15);\n",
              "      fill: #174EA6;\n",
              "    }\n",
              "\n",
              "    [theme=dark] .colab-df-convert {\n",
              "      background-color: #3B4455;\n",
              "      fill: #D2E3FC;\n",
              "    }\n",
              "\n",
              "    [theme=dark] .colab-df-convert:hover {\n",
              "      background-color: #434B5C;\n",
              "      box-shadow: 0px 1px 3px 1px rgba(0, 0, 0, 0.15);\n",
              "      filter: drop-shadow(0px 1px 2px rgba(0, 0, 0, 0.3));\n",
              "      fill: #FFFFFF;\n",
              "    }\n",
              "  </style>\n",
              "\n",
              "      <script>\n",
              "        const buttonEl =\n",
              "          document.querySelector('#df-87557d1b-571f-4fe9-8127-1fe38db9737b button.colab-df-convert');\n",
              "        buttonEl.style.display =\n",
              "          google.colab.kernel.accessAllowed ? 'block' : 'none';\n",
              "\n",
              "        async function convertToInteractive(key) {\n",
              "          const element = document.querySelector('#df-87557d1b-571f-4fe9-8127-1fe38db9737b');\n",
              "          const dataTable =\n",
              "            await google.colab.kernel.invokeFunction('convertToInteractive',\n",
              "                                                     [key], {});\n",
              "          if (!dataTable) return;\n",
              "\n",
              "          const docLinkHtml = 'Like what you see? Visit the ' +\n",
              "            '<a target=\"_blank\" href=https://colab.research.google.com/notebooks/data_table.ipynb>data table notebook</a>'\n",
              "            + ' to learn more about interactive tables.';\n",
              "          element.innerHTML = '';\n",
              "          dataTable['output_type'] = 'display_data';\n",
              "          await google.colab.output.renderOutput(dataTable, element);\n",
              "          const docLink = document.createElement('div');\n",
              "          docLink.innerHTML = docLinkHtml;\n",
              "          element.appendChild(docLink);\n",
              "        }\n",
              "      </script>\n",
              "    </div>\n",
              "  </div>\n",
              "  "
            ]
          },
          "metadata": {},
          "execution_count": 15
        }
      ]
    },
    {
      "cell_type": "code",
      "source": [
        "from sklearn.metrics import confusion_matrix\n",
        "conf_matrix = confusion_matrix(yTrain, prevTreino)"
      ],
      "metadata": {
        "id": "D5zcMWRVPAuM"
      },
      "execution_count": 16,
      "outputs": []
    },
    {
      "cell_type": "code",
      "source": [
        "sns.set(font_scale=1.4,color_codes=True,palette=\"deep\")\n",
        "sns.heatmap(conf_matrix,annot=True,annot_kws={\"size\":16},fmt=\"d\",cmap=\"YlGnBu\")\n",
        "plt.xlabel(\"Predicted Value\")\n",
        "plt.ylabel(\"True Value\")\n",
        "plt.show()"
      ],
      "metadata": {
        "colab": {
          "base_uri": "https://localhost:8080/",
          "height": 468
        },
        "id": "OIbJB9GRPS2l",
        "outputId": "b0df75b2-a9d3-438d-fa97-99ea4ac3d995"
      },
      "execution_count": 17,
      "outputs": [
        {
          "output_type": "display_data",
          "data": {
            "text/plain": [
              "<Figure size 640x480 with 2 Axes>"
            ],
            "image/png": "[encoded data removed]"
          },
          "metadata": {}
        }
      ]
    },
    {
      "cell_type": "code",
      "source": [
        "conf_matrix = confusion_matrix(yTeste, prevTeste)"
      ],
      "metadata": {
        "id": "-olggrabS7DU"
      },
      "execution_count": 18,
      "outputs": []
    },
    {
      "cell_type": "code",
      "source": [
        "sns.set(font_scale=1.4,color_codes=True,palette=\"deep\")\n",
        "sns.heatmap(conf_matrix,annot=True,annot_kws={\"size\":16},fmt=\"d\",cmap=\"YlGnBu\")\n",
        "plt.xlabel(\"Predicted Value\")\n",
        "plt.ylabel(\"True Value\")\n",
        "plt.show()"
      ],
      "metadata": {
        "colab": {
          "base_uri": "https://localhost:8080/",
          "height": 468
        },
        "outputId": "6a80877f-eb0e-4694-9e11-e10d5a1bf573",
        "id": "50mTxtkOTAFA"
      },
      "execution_count": 19,
      "outputs": [
        {
          "output_type": "display_data",
          "data": {
            "text/plain": [
              "<Figure size 640x480 with 2 Axes>"
            ],
            "image/png": "[encoded data removed]"
          },
          "metadata": {}
        }
      ]
    },
    {
      "cell_type": "code",
      "source": [
        "from sklearn.metrics import precision_recall_fscore_support, f1_score, accuracy_score, precision_score, recall_score"
      ],
      "metadata": {
        "id": "QIRHhvOKOjjl"
      },
      "execution_count": 20,
      "outputs": []
    },
    {
      "cell_type": "code",
      "source": [
        "print(accuracy_score(yTrain, prevTreino))\n",
        "print(f1_score(yTrain, prevTreino))\n",
        "print(recall_score(yTrain, prevTreino))\n",
        "print(precision_score(yTrain, prevTreino, zero_division=0))"
      ],
      "metadata": {
        "colab": {
          "base_uri": "https://localhost:8080/"
        },
        "id": "HrcW8q98hx1n",
        "outputId": "1315cd16-6047-473e-ec41-1fe0fbc4aabb"
      },
      "execution_count": 21,
      "outputs": [
        {
          "output_type": "stream",
          "name": "stdout",
          "text": [
            "0.9892397660818714\n",
            "0.0\n",
            "0.0\n",
            "0.0\n"
          ]
        }
      ]
    },
    {
      "cell_type": "code",
      "source": [
        "print(accuracy_score(yTeste, prevTeste))\n",
        "print(f1_score(yTeste, prevTeste))\n",
        "print(recall_score(yTeste, prevTeste))\n",
        "print(precision_score(yTeste, prevTeste, zero_division=0))"
      ],
      "metadata": {
        "colab": {
          "base_uri": "https://localhost:8080/"
        },
        "outputId": "205df37e-971b-4ed1-e9e4-4da1cd663ab0",
        "id": "cHd5NTB1mOHF"
      },
      "execution_count": 22,
      "outputs": [
        {
          "output_type": "stream",
          "name": "stdout",
          "text": [
            "0.9892391367916252\n",
            "0.0\n",
            "0.0\n",
            "0.0\n"
          ]
        }
      ]
    },
    {
      "cell_type": "code",
      "source": [
        "from sklearn.tree import DecisionTreeClassifier\n",
        "from sklearn.neighbors import KNeighborsClassifier\n",
        "from sklearn.linear_model import LogisticRegression\n",
        "from sklearn.ensemble import RandomForestClassifier"
      ],
      "metadata": {
        "id": "qS4MECoWjns4"
      },
      "execution_count": 23,
      "outputs": []
    },
    {
      "cell_type": "code",
      "source": [
        "classificadores = {\n",
        "    \"LogisiticRegression\": LogisticRegression(),\n",
        "    \"KNearest\": KNeighborsClassifier(),\n",
        "    \"DecisionTreeClassifier\": DecisionTreeClassifier(), \n",
        "    \"Random Forest\": RandomForestClassifier()\n",
        "}"
      ],
      "metadata": {
        "id": "AeZQ3UGHjNvk"
      },
      "execution_count": 24,
      "outputs": []
    },
    {
      "cell_type": "code",
      "source": [
        "from imblearn.under_sampling import NearMiss, RandomUnderSampler\n",
        "undersample = NearMiss()\n",
        "xUnder, yUnder = undersample.fit_resample(xTrain, yTrain)\n",
        "\n",
        "from collections import Counter\n",
        "counter = Counter(yUnder)\n",
        "print(counter)"
      ],
      "metadata": {
        "colab": {
          "base_uri": "https://localhost:8080/"
        },
        "id": "eYY2OCsKipRq",
        "outputId": "380c3e16-d945-4573-8796-4dd1b44a768c"
      },
      "execution_count": 25,
      "outputs": [
        {
          "output_type": "stream",
          "name": "stdout",
          "text": [
            "Counter({0.0: 736, 1.0: 736})\n"
          ]
        }
      ]
    },
    {
      "cell_type": "code",
      "source": [
        "for nome, model in classificadores.items():\n",
        "    \n",
        "    model.fit(xUnder, yUnder)\n",
        "    prevTreino = model.predict(xTeste)\n",
        "    \n",
        "    print(f'Modelo - {nome}')\n",
        "    print(f\"accuracy:  {accuracy_score(yTeste, prevTreino)}\")\n",
        "    print(f\"precision: {precision_score(yTeste, prevTreino)}\")\n",
        "    print(f\"recall:    {recall_score(yTeste, prevTreino)}\")\n",
        "    print(f\"f1:        {f1_score(yTeste, prevTreino)}\")\n",
        "    print('___' * 20)\n",
        "    print('\\n')"
      ],
      "metadata": {
        "colab": {
          "base_uri": "https://localhost:8080/"
        },
        "id": "EHG7t4dGkkjB",
        "outputId": "c2c9b55e-4a4b-428b-9db2-f4527e59bfff"
      },
      "execution_count": 26,
      "outputs": [
        {
          "output_type": "stream",
          "name": "stdout",
          "text": [
            "Modelo - LogisiticRegression\n",
            "accuracy:  0.24352301304169835\n",
            "precision: 0.008328834734325595\n",
            "recall:    0.5869565217391305\n",
            "f1:        0.016424606493802753\n",
            "____________________________________________________________\n",
            "\n",
            "\n",
            "Modelo - KNearest\n",
            "accuracy:  0.24018948476519095\n",
            "precision: 0.009196811771919068\n",
            "recall:    0.6521739130434783\n",
            "f1:        0.018137847642079805\n",
            "____________________________________________________________\n",
            "\n",
            "\n",
            "Modelo - DecisionTreeClassifier\n",
            "accuracy:  0.24463418913386747\n",
            "precision: 0.011959521619135235\n",
            "recall:    0.8478260869565217\n",
            "f1:        0.023586332022981552\n",
            "____________________________________________________________\n",
            "\n",
            "\n",
            "Modelo - Random Forest\n",
            "accuracy:  0.1215860576641909\n",
            "precision: 0.010556875164951175\n",
            "recall:    0.8695652173913043\n",
            "f1:        0.020860495436766626\n",
            "____________________________________________________________\n",
            "\n",
            "\n"
          ]
        }
      ]
    },
    {
      "cell_type": "code",
      "source": [
        "from imblearn.over_sampling import SMOTE, RandomOverSampler\n",
        "oversample_smote = SMOTE(sampling_strategy='minority')\n",
        "xOver, yOver = oversample_smote.fit_resample(xTrain, yTrain)\n",
        "\n",
        "counter = Counter(yOver)\n",
        "print(counter)"
      ],
      "metadata": {
        "colab": {
          "base_uri": "https://localhost:8080/"
        },
        "id": "Kk_7Fk-boFs0",
        "outputId": "a220ab02-694c-4681-d353-5c9b3f6c41fc"
      },
      "execution_count": 27,
      "outputs": [
        {
          "output_type": "stream",
          "name": "stdout",
          "text": [
            "Counter({0.0: 67664, 1.0: 67664})\n"
          ]
        }
      ]
    },
    {
      "cell_type": "code",
      "source": [
        "for nome, model in classificadores.items():\n",
        "    \n",
        "    model.fit(xOver, yOver)\n",
        "    prevTreino = model.predict(xTeste)\n",
        "    \n",
        "    print(f'Modelo - {nome}')\n",
        "    print(f\"accuracy:  {accuracy_score(yTeste, prevTreino)}\")\n",
        "    print(f\"precision: {precision_score(yTeste, prevTreino)}\")\n",
        "    print(f\"recall:    {recall_score(yTeste, prevTreino)}\")\n",
        "    print(f\"f1:        {f1_score(yTeste, prevTreino)}\")\n",
        "    print('___' * 20)\n",
        "    print('\\n')"
      ],
      "metadata": {
        "colab": {
          "base_uri": "https://localhost:8080/"
        },
        "id": "dYYOrDIio1AJ",
        "outputId": "486f7a68-d5a8-49c9-9751-2c533a82f3ca"
      },
      "execution_count": 28,
      "outputs": [
        {
          "output_type": "stream",
          "name": "stdout",
          "text": [
            "Modelo - LogisiticRegression\n",
            "accuracy:  0.6471723492601906\n",
            "precision: 0.02112330112985099\n",
            "recall:    0.7010869565217391\n",
            "f1:        0.041010968049594664\n",
            "____________________________________________________________\n",
            "\n",
            "\n",
            "Modelo - KNearest\n",
            "accuracy:  0.915550616995146\n",
            "precision: 0.05319148936170213\n",
            "recall:    0.4076086956521739\n",
            "f1:        0.09410288582183186\n",
            "____________________________________________________________\n",
            "\n",
            "\n",
            "Modelo - DecisionTreeClassifier\n",
            "accuracy:  0.9613427685829581\n",
            "precision: 0.1044776119402985\n",
            "recall:    0.3423913043478261\n",
            "f1:        0.16010165184243963\n",
            "____________________________________________________________\n",
            "\n",
            "\n",
            "Modelo - Random Forest\n",
            "accuracy:  0.9871922334639452\n",
            "precision: 0.39766081871345027\n",
            "recall:    0.3695652173913043\n",
            "f1:        0.38309859154929576\n",
            "____________________________________________________________\n",
            "\n",
            "\n"
          ]
        }
      ]
    },
    {
      "cell_type": "code",
      "source": [
        "xTrainArr = xTrain.values\n",
        "xTesteArr = xTeste.values\n",
        "yTrainArr = yTrain.values\n",
        "yTesteArr = yTeste.values"
      ],
      "metadata": {
        "id": "6mRLlL9CNbty"
      },
      "execution_count": 29,
      "outputs": []
    },
    {
      "cell_type": "code",
      "source": [
        "nArvores = [3, 5, 10, 100]\n",
        "featuresSplits = [3, 4, 5, 6, None]\n",
        "niveisArvore = [3, 4, 5, 6, None]\n",
        "pesoClasse = ['balanced', None]\n",
        "paramDic = {'n_estimators': nArvores, 'max_features': featuresSplits, 'max_depth': niveisArvore, 'class_weight': pesoClasse}"
      ],
      "metadata": {
        "id": "hD_SuyvWTh0L"
      },
      "execution_count": 30,
      "outputs": []
    },
    {
      "cell_type": "code",
      "source": [
        "from sklearn.model_selection import RandomizedSearchCV\n",
        "import time\n",
        "from imblearn.pipeline import Pipeline\n",
        "from imblearn.pipeline import make_pipeline as imbalanced_make_pipeline\n",
        "from sklearn.metrics import roc_auc_score, auc, roc_curve, precision_recall_curve, average_precision_score\n",
        "\n",
        "accuracy = []\n",
        "precision = []\n",
        "recall = []\n",
        "f1 = []\n",
        "auc = []\n",
        "\n",
        "rf_grid = RandomizedSearchCV(RandomForestClassifier(), paramDic, random_state=42)\n",
        "\n",
        "start = time.time()\n",
        "count = 0\n",
        "\n",
        "for train, test in StratifKfold.split(xTrainArr, yTrainArr):\n",
        "    \n",
        "    pipeline_rf = imbalanced_make_pipeline(RandomOverSampler(sampling_strategy='minority'), rf_grid)\n",
        "    \n",
        "    model_rf = pipeline_rf.fit(xTrainArr[train], yTrainArr[train])\n",
        "    \n",
        "    best_est_rf = rf_grid.best_estimator_\n",
        "    \n",
        "    prediction_rf = best_est_rf.predict(xTrainArr[test])\n",
        "    \n",
        "    accuracy.append(pipeline_rf.score(xTrainArr[test], yTrainArr[test]))\n",
        "    precision.append(precision_score(yTrainArr[test], prediction_rf))\n",
        "    recall.append(recall_score(yTrainArr[test], prediction_rf))\n",
        "    f1.append(f1_score(yTrainArr[test], prediction_rf))\n",
        "    auc.append(roc_auc_score(yTrainArr[test], prediction_rf))\n",
        "    \n",
        "    count = count + 1\n",
        "    print(f\"kfold nº: {count}\")\n",
        "    \n",
        "    intervalo = time.time()\n",
        "    print(f\"Tempo da iteração: {(intervalo - start)/60:.1f} minutos\")\n",
        "    print()\n",
        "\n",
        "print('___' * 20)\n",
        "print(f\"Melhores estimadores para RF: {rf_grid.best_params_}\")\n",
        "\n",
        "print('___' * 20)\n",
        "print('Resultados')\n",
        "print(f\"accuracy:  {np.mean(accuracy)}\")\n",
        "print(f\"precision: {np.mean(precision)}\")\n",
        "print(f\"recall:    {np.mean(recall)}\")\n",
        "print(f\"f1:        {np.mean(f1)}\")\n",
        "print(f\"AUC:       {np.mean(auc)}\")\n",
        "print('___' * 20)\n",
        "\n",
        "end = time.time()\n",
        "print(f\"Tempo final: {(end - start)/60:.1f} minutos\")"
      ],
      "metadata": {
        "colab": {
          "base_uri": "https://localhost:8080/"
        },
        "id": "Kv_zbX7RWBbP",
        "outputId": "58f257df-6096-4d75-ca86-49de6a30fa16"
      },
      "execution_count": 31,
      "outputs": [
        {
          "output_type": "stream",
          "name": "stdout",
          "text": [
            "kfold nº: 1\n",
            "Tempo da iteração: 4.6 minutos\n",
            "\n",
            "kfold nº: 2\n",
            "Tempo da iteração: 9.1 minutos\n",
            "\n",
            "kfold nº: 3\n",
            "Tempo da iteração: 13.6 minutos\n",
            "\n",
            "kfold nº: 4\n",
            "Tempo da iteração: 18.2 minutos\n",
            "\n",
            "kfold nº: 5\n",
            "Tempo da iteração: 22.7 minutos\n",
            "\n",
            "____________________________________________________________\n",
            "Melhores estimadores para RF: {'n_estimators': 100, 'max_features': 6, 'max_depth': None, 'class_weight': 'balanced'}\n",
            "____________________________________________________________\n",
            "Resultados\n",
            "accuracy:  0.9874561403508771\n",
            "precision: 0.36697842090919575\n",
            "recall:    0.22142857142857145\n",
            "f1:        0.2758803745167235\n",
            "AUC:       0.6086082973942555\n",
            "____________________________________________________________\n",
            "Tempo final: 22.7 minutos\n"
          ]
        }
      ]
    }
  ]
}